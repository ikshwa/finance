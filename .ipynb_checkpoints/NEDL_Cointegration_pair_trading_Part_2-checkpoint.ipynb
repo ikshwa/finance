{
 "cells": [
  {
   "cell_type": "code",
   "execution_count": 1,
   "metadata": {},
   "outputs": [],
   "source": [
    "#importing packages\n",
    "import numpy as np\n",
    "import pandas as pd\n",
    "import yfinance as yf\n",
    "import statsmodels.api as sm\n",
    "import scipy.optimize as spop\n",
    "import matplotlib.pyplot as plt"
   ]
  },
  {
   "cell_type": "code",
   "execution_count": 4,
   "metadata": {
    "tags": []
   },
   "outputs": [],
   "source": [
    "#specifying rolling window length\n",
    "window = 22\n",
    "#specifying maximum KPSS statistic (95% critical value)\n",
    "KPSS_max = 0.463\n",
    "#specifying the KPSS test (one-parameter unbiased or two-parameter)\n",
    "unbiased = 1\n",
    "#specifying whether to perform beta-loading or not\n",
    "beta_loading = 0\n",
    "#strategy parameters - trading fee, optimal entry (divergence), and stop-loss\n",
    "fee = 0.0001\n",
    "entry = 0.02\n",
    "stop_loss = -0.05\n",
    "#initially start in cash\n",
    "signal = 0\n",
    "current_return = 0\n",
    "position0 = 0\n",
    "position1 = 0\n",
    "#specifying the sample\n",
    "start = '2021-09-28'\n",
    "end = '2023-03-28'\n",
    "#specifying the pair\n",
    "tickers = ['BHP', 'RIO']\n",
    "#specifying the market index\n",
    "market = 'ASX'\n",
    "#initialising arrays\n",
    "gross_returns = np.array([])\n",
    "net_returns = np.array([])\n",
    "market_returns = np.array([])\n",
    "signals = np.array([])\n",
    "KPSS_stats = np.array([])\n",
    "raw_data = pd.DataFrame()"
   ]
  },
  {
   "cell_type": "code",
   "execution_count": 5,
   "metadata": {},
   "outputs": [
    {
     "name": "stdout",
     "output_type": "stream",
     "text": [
      "[*********************100%***********************]  1 of 1 completed\n",
      "[*********************100%***********************]  1 of 1 completed\n",
      "[*********************100%***********************]  1 of 1 completed\n"
     ]
    }
   ],
   "source": [
    "#downloading price data for stocks and the market index\n",
    "for ticker in tickers:\n",
    "    raw_data[ticker] = yf.download(ticker, start, end)['Close']\n",
    "raw_data['market'] = yf.download(market, start, end)['Close']"
   ]
  },
  {
   "cell_type": "code",
   "execution_count": 9,
   "metadata": {},
   "outputs": [],
   "source": [
    "#defining the KPSS function (unbiased one-parameter forecast)\n",
    "def KPSS(b):\n",
    "            a = np.average(data[tickers[1]] - b*data[tickers[0]])\n",
    "            resid = np.array(data[tickers[1]] - (a + b*data[tickers[0]]))\n",
    "            cum_resid = np.cumsum(resid)\n",
    "            st_error = (np.sum(resid**2)/(len(resid)-2))**(1/2)\n",
    "            KPSS = np.sum(cum_resid**2)/(len(resid)**2*st_error**2)\n",
    "            return KPSS\n",
    "#defining the KPSS function (two-parameter)\n",
    "def KPSS2(kpss_params):\n",
    "            a = kpss_params[0]\n",
    "            b = kpss_params[1]\n",
    "            resid = np.array(data[tickers[1]] - (a + b*data[tickers[0]]))\n",
    "            cum_resid = np.cumsum(resid)\n",
    "            st_error = (np.sum(resid**2)/(len(resid)-2))**(1/2)\n",
    "            KPSS = np.sum(cum_resid**2)/(len(resid)**2*st_error**2)\n",
    "            return KPSS"
   ]
  },
  {
   "cell_type": "code",
   "execution_count": 10,
   "metadata": {},
   "outputs": [
    {
     "name": "stdout",
     "output_type": "stream",
     "text": [
      "stop-loss triggered\n",
      "stop-loss triggered\n",
      "stop-loss triggered\n"
     ]
    }
   ],
   "source": [
    "#moving in a loop through the sample\n",
    "for t in range(window, len(raw_data)-1):\n",
    "    old_signal = signal\n",
    "    old_position0 = position0\n",
    "    old_position1 = position1\n",
    "    #specifying the subsample\n",
    "    data = raw_data[t-window:t]\n",
    "    #stock 2 = a + b*stock 1\n",
    "    #OLS parameters as starting values\n",
    "    reg = sm.OLS(np.array(data[tickers[1]]), sm.add_constant(np.array(data[tickers[0]])))\n",
    "    res = reg.fit()\n",
    "    a0 = res.params[0]\n",
    "    b0 = res.params[1]\n",
    "    if unbiased == 1:\n",
    "        #minimising the KPSS function (maximising the stationarity)\n",
    "        res = spop.minimize(KPSS, b0, method='Nelder-Mead')\n",
    "        KPSS_opt = res.fun\n",
    "        #retrieving optimal parameters\n",
    "        b_opt = float(res.x)\n",
    "        a_opt = np.average(data[tickers[1]] - b_opt*data[tickers[0]]) \n",
    "    else:\n",
    "\n",
    "        #minimising the KPSS function (maximising the stationarity)\n",
    "        res = spop.minimize(KPSS2, [a0, b0], method='Nelder-Mead')\n",
    "        #retrieving optimal parameters\n",
    "        KPSS_opt = res.fun\n",
    "        a_opt = res.x[0]\n",
    "        b_opt = res.x[1]\n",
    "    #simulate trading\n",
    "    #first check whether stop-loss is violated\n",
    "    if current_return < stop_loss:\n",
    "        signal = 0\n",
    "        print('stop-loss triggered')\n",
    "    #if we are already in position, check whether the equilibrium is restored, continue in position if not\n",
    "    elif np.sign(raw_data[tickers[1]][t] - (a_opt + b_opt*raw_data[tickers[0]][t])) == old_signal:\n",
    "        singal = old_signal\n",
    "    else:\n",
    "        #only trade if the pair is cointegrated\n",
    "        if KPSS_opt > KPSS_max:\n",
    "            signal = 0\n",
    "        #only trade if there are large enough profit opportunities (optimal entry)\n",
    "        elif abs(raw_data[tickers[1]][t]/(a_opt + b_opt*raw_data[tickers[0]][t])-1) < entry:\n",
    "            signal = 0\n",
    "        else:\n",
    "            signal = np.sign(raw_data[tickers[1]][t] - (a_opt + b_opt*raw_data[tickers[0]][t]))\n",
    "    #calculate strategy returns with beta loading\n",
    "    if beta_loading == 1:\n",
    "        rets0 = np.array(raw_data[tickers[0]][t-window:t-1])/np.array(raw_data[tickers[0]][t-window+1:t]) - 1\n",
    "        rets1 = np.array(raw_data[tickers[1]][t-window:t-1])/np.array(raw_data[tickers[1]][t-window+1:t]) - 1\n",
    "        rets_mkt = np.array(raw_data['market'][t-window:t-1])/np.array(raw_data['market'][t-window+1:t]) - 1\n",
    "        reg = sm.OLS(rets0, sm.add_constant(rets_mkt))\n",
    "        res = reg.fit()\n",
    "        beta0 = res.params[1]\n",
    "        reg = sm.OLS(rets1, sm.add_constant(rets_mkt))\n",
    "        res = reg.fit()\n",
    "        beta1 = res.params[1]\n",
    "        position0 = beta1*signal\n",
    "        position1 = -beta0*signal\n",
    "    #calculate strategy returns without beta loading\n",
    "    else:\n",
    "        position0 = signal\n",
    "        position1 = -signal\n",
    "    #calculating returns\n",
    "    gross = position0*(raw_data[tickers[0]][t+1]/raw_data[tickers[0]][t] - 1) + position1*(raw_data[tickers[1]][t+1]/raw_data[tickers[1]][t] - 1)\n",
    "    net = gross - fee*(abs(position0 - old_position0) + abs(position1 - old_position1))\n",
    "    market = raw_data['market'][t+1]/raw_data['market'][t] - 1\n",
    "    if signal == old_signal:\n",
    "        current_return = (1+current_return)*(1+gross)-1\n",
    "    else:\n",
    "        current_return = gross\n",
    "    #populating arrays\n",
    "    KPSS_stats = np.append(KPSS_stats, KPSS_opt)\n",
    "    signals = np.append(signals, signal)\n",
    "    gross_returns = np.append(gross_returns, gross)\n",
    "    net_returns = np.append(net_returns, net)\n",
    "    market_returns = np.append(market_returns, market)"
   ]
  },
  {
   "cell_type": "code",
   "execution_count": 7,
   "metadata": {},
   "outputs": [],
   "source": [
    "#building the output dataframe\n",
    "output = pd.DataFrame()\n",
    "output['KPSS'] = KPSS_stats\n",
    "output['signal'] = signals\n",
    "output['gross'] = gross_returns\n",
    "output['net'] = net_returns\n",
    "output['market'] = market_returns\n",
    "#visualising the results\n",
    "# plt.plot(np.append(1,np.cumprod(1+gross_returns)))\n",
    "\n",
    "# plt.plot(np.append(1,np.cumprod(1+market_returns)))"
   ]
  },
  {
   "cell_type": "code",
   "execution_count": 8,
   "metadata": {},
   "outputs": [
    {
     "data": {
      "text/plain": [
       "[<matplotlib.lines.Line2D at 0x212b9a28190>]"
      ]
     },
     "execution_count": 8,
     "metadata": {},
     "output_type": "execute_result"
    },
    {
     "data": {
      "image/png": "[encoded data removed]",
      "text/plain": [
       "<Figure size 432x288 with 1 Axes>"
      ]
     },
     "metadata": {
      "needs_background": "light"
     },
     "output_type": "display_data"
    }
   ],
   "source": [
    "plt.plot(np.append(1,np.cumprod(1+net_returns)))"
   ]
  },
  {
   "cell_type": "code",
   "execution_count": null,
   "metadata": {},
   "outputs": [],
   "source": []
  }
 ],
 "metadata": {
  "kernelspec": {
   "display_name": "Python 3 (ipykernel)",
   "language": "python",
   "name": "python3"
  },
  "language_info": {
   "codemirror_mode": {
    "name": "ipython",
    "version": 3
   },
   "file_extension": ".py",
   "mimetype": "text/x-python",
   "name": "python",
   "nbconvert_exporter": "python",
   "pygments_lexer": "ipython3",
   "version": "3.9.12"
  }
 },
 "nbformat": 4,
 "nbformat_minor": 4
}
