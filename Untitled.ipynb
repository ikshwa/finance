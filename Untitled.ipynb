{
 "cells": [
  {
   "cell_type": "code",
   "execution_count": 1,
   "id": "c6e3d586-efb7-418f-9e17-9881556a86f1",
   "metadata": {},
   "outputs": [
    {
     "name": "stdout",
     "output_type": "stream",
     "text": [
      "All imported\n"
     ]
    }
   ],
   "source": [
    "import pandas as pd\n",
    "import numpy as np\n",
    "import math \n",
    "import seaborn as sns \n",
    "import matplotlib.pyplot as plt\n",
    "#from sklearn import metrics\n",
    "#from sklearn.model_selection import train_test_split\n",
    "import yfinance as yf  # We will use this library to upload latest data from Yahoo API\n",
    "%matplotlib inline\n",
    "plt.style.use('fivethirtyeight')\n",
    "print(\"All imported\")"
   ]
  },
  {
   "cell_type": "code",
   "execution_count": 2,
   "id": "e0a67ec1-120e-47bf-a858-470edb6697c2",
   "metadata": {},
   "outputs": [
    {
     "data": {
      "text/html": [
       "<div>\n",
       "<style scoped>\n",
       "    .dataframe tbody tr th:only-of-type {\n",
       "        vertical-align: middle;\n",
       "    }\n",
       "\n",
       "    .dataframe tbody tr th {\n",
       "        vertical-align: top;\n",
       "    }\n",
       "\n",
       "    .dataframe thead th {\n",
       "        text-align: right;\n",
       "    }\n",
       "</style>\n",
       "<table border=\"1\" class=\"dataframe\">\n",
       "  <thead>\n",
       "    <tr style=\"text-align: right;\">\n",
       "      <th></th>\n",
       "      <th>Open</th>\n",
       "      <th>High</th>\n",
       "      <th>Low</th>\n",
       "      <th>Close</th>\n",
       "      <th>Volume</th>\n",
       "      <th>Dividends</th>\n",
       "      <th>Stock Splits</th>\n",
       "    </tr>\n",
       "    <tr>\n",
       "      <th>Date</th>\n",
       "      <th></th>\n",
       "      <th></th>\n",
       "      <th></th>\n",
       "      <th></th>\n",
       "      <th></th>\n",
       "      <th></th>\n",
       "      <th></th>\n",
       "    </tr>\n",
       "  </thead>\n",
       "  <tbody>\n",
       "    <tr>\n",
       "      <th>2003-11-05 00:00:00+11:00</th>\n",
       "      <td>0.200795</td>\n",
       "      <td>0.200795</td>\n",
       "      <td>0.178482</td>\n",
       "      <td>0.178482</td>\n",
       "      <td>823593</td>\n",
       "      <td>0.0</td>\n",
       "      <td>0.0</td>\n",
       "    </tr>\n",
       "    <tr>\n",
       "      <th>2003-11-06 00:00:00+11:00</th>\n",
       "      <td>0.178482</td>\n",
       "      <td>0.178482</td>\n",
       "      <td>0.151717</td>\n",
       "      <td>0.160639</td>\n",
       "      <td>228028</td>\n",
       "      <td>0.0</td>\n",
       "      <td>0.0</td>\n",
       "    </tr>\n",
       "    <tr>\n",
       "      <th>2003-11-07 00:00:00+11:00</th>\n",
       "      <td>0.178482</td>\n",
       "      <td>0.178482</td>\n",
       "      <td>0.169560</td>\n",
       "      <td>0.169560</td>\n",
       "      <td>35856</td>\n",
       "      <td>0.0</td>\n",
       "      <td>0.0</td>\n",
       "    </tr>\n",
       "    <tr>\n",
       "      <th>2003-11-10 00:00:00+11:00</th>\n",
       "      <td>0.178482</td>\n",
       "      <td>0.178482</td>\n",
       "      <td>0.160639</td>\n",
       "      <td>0.160639</td>\n",
       "      <td>61629</td>\n",
       "      <td>0.0</td>\n",
       "      <td>0.0</td>\n",
       "    </tr>\n",
       "    <tr>\n",
       "      <th>2003-11-11 00:00:00+11:00</th>\n",
       "      <td>0.160639</td>\n",
       "      <td>0.160639</td>\n",
       "      <td>0.142787</td>\n",
       "      <td>0.142787</td>\n",
       "      <td>150151</td>\n",
       "      <td>0.0</td>\n",
       "      <td>0.0</td>\n",
       "    </tr>\n",
       "  </tbody>\n",
       "</table>\n",
       "</div>"
      ],
      "text/plain": [
       "                               Open      High       Low     Close  Volume  \\\n",
       "Date                                                                        \n",
       "2003-11-05 00:00:00+11:00  0.200795  0.200795  0.178482  0.178482  823593   \n",
       "2003-11-06 00:00:00+11:00  0.178482  0.178482  0.151717  0.160639  228028   \n",
       "2003-11-07 00:00:00+11:00  0.178482  0.178482  0.169560  0.169560   35856   \n",
       "2003-11-10 00:00:00+11:00  0.178482  0.178482  0.160639  0.160639   61629   \n",
       "2003-11-11 00:00:00+11:00  0.160639  0.160639  0.142787  0.142787  150151   \n",
       "\n",
       "                           Dividends  Stock Splits  \n",
       "Date                                                \n",
       "2003-11-05 00:00:00+11:00        0.0           0.0  \n",
       "2003-11-06 00:00:00+11:00        0.0           0.0  \n",
       "2003-11-07 00:00:00+11:00        0.0           0.0  \n",
       "2003-11-10 00:00:00+11:00        0.0           0.0  \n",
       "2003-11-11 00:00:00+11:00        0.0           0.0  "
      ]
     },
     "execution_count": 2,
     "metadata": {},
     "output_type": "execute_result"
    }
   ],
   "source": [
    "aru = yf.Ticker('ARU.AX')\n",
    "#Display stock information, it will give you a summary description of the ticker\n",
    "history = aru.history(period=\"Max\")\n",
    "df = pd.DataFrame(history)\n",
    "df.head(5)"
   ]
  },
  {
   "cell_type": "code",
   "execution_count": 3,
   "id": "d0d43ada-5615-48f3-bad0-dcccb16aaa45",
   "metadata": {},
   "outputs": [],
   "source": [
    "x = df.index\n",
    "y = df['Close']"
   ]
  },
  {
   "cell_type": "code",
   "execution_count": 4,
   "id": "ff28b2c1-059e-4a67-b8a0-bed3602e1c2a",
   "metadata": {},
   "outputs": [],
   "source": [
    "def df_plot(data, x, y, title=\"\", xlabel='Date', ylabel='Value', dpi=100):\n",
    "    plt.figure(figsize=(16,5), dpi=dpi)\n",
    "    plt.plot(x, y, color='tab:red')\n",
    "    plt.gca().set(title=title, xlabel=xlabel, ylabel=ylabel)\n",
    "    plt.show()"
   ]
  },
  {
   "cell_type": "code",
   "execution_count": 5,
   "id": "5e5f8704-9ac6-446c-93df-2d25fdd60b62",
   "metadata": {},
   "outputs": [
    {
     "data": {
      "image/png": "[encoded data removed]",
      "text/plain": [
       "<Figure size 1600x500 with 1 Axes>"
      ]
     },
     "metadata": {},
     "output_type": "display_data"
    }
   ],
   "source": [
    "stock_name= \"ARU.AX\"\n",
    "title = (stock_name,\"History stock performance till date\")\n",
    "df_plot(df , x , y , title=title,xlabel='Date', ylabel='Value',dpi=100)"
   ]
  },
  {
   "cell_type": "code",
   "execution_count": 4,
   "id": "db2f9a6a-ffaa-49fb-b9ed-cd0df8be4167",
   "metadata": {},
   "outputs": [
    {
     "data": {
      "text/html": [
       "<div>\n",
       "<style scoped>\n",
       "    .dataframe tbody tr th:only-of-type {\n",
       "        vertical-align: middle;\n",
       "    }\n",
       "\n",
       "    .dataframe tbody tr th {\n",
       "        vertical-align: top;\n",
       "    }\n",
       "\n",
       "    .dataframe thead th {\n",
       "        text-align: right;\n",
       "    }\n",
       "</style>\n",
       "<table border=\"1\" class=\"dataframe\">\n",
       "  <thead>\n",
       "    <tr style=\"text-align: right;\">\n",
       "      <th></th>\n",
       "      <th>Date</th>\n",
       "      <th>Open</th>\n",
       "      <th>High</th>\n",
       "      <th>Low</th>\n",
       "      <th>Close</th>\n",
       "      <th>Volume</th>\n",
       "      <th>Dividends</th>\n",
       "      <th>Stock Splits</th>\n",
       "    </tr>\n",
       "  </thead>\n",
       "  <tbody>\n",
       "    <tr>\n",
       "      <th>0</th>\n",
       "      <td>2003-11-05 00:00:00+11:00</td>\n",
       "      <td>0.200795</td>\n",
       "      <td>0.200795</td>\n",
       "      <td>0.178482</td>\n",
       "      <td>0.178482</td>\n",
       "      <td>823593</td>\n",
       "      <td>0.0</td>\n",
       "      <td>0.0</td>\n",
       "    </tr>\n",
       "    <tr>\n",
       "      <th>1</th>\n",
       "      <td>2003-11-06 00:00:00+11:00</td>\n",
       "      <td>0.178482</td>\n",
       "      <td>0.178482</td>\n",
       "      <td>0.151717</td>\n",
       "      <td>0.160639</td>\n",
       "      <td>228028</td>\n",
       "      <td>0.0</td>\n",
       "      <td>0.0</td>\n",
       "    </tr>\n",
       "    <tr>\n",
       "      <th>2</th>\n",
       "      <td>2003-11-07 00:00:00+11:00</td>\n",
       "      <td>0.178482</td>\n",
       "      <td>0.178482</td>\n",
       "      <td>0.169560</td>\n",
       "      <td>0.169560</td>\n",
       "      <td>35856</td>\n",
       "      <td>0.0</td>\n",
       "      <td>0.0</td>\n",
       "    </tr>\n",
       "    <tr>\n",
       "      <th>3</th>\n",
       "      <td>2003-11-10 00:00:00+11:00</td>\n",
       "      <td>0.178482</td>\n",
       "      <td>0.178482</td>\n",
       "      <td>0.160639</td>\n",
       "      <td>0.160639</td>\n",
       "      <td>61629</td>\n",
       "      <td>0.0</td>\n",
       "      <td>0.0</td>\n",
       "    </tr>\n",
       "    <tr>\n",
       "      <th>4</th>\n",
       "      <td>2003-11-11 00:00:00+11:00</td>\n",
       "      <td>0.160639</td>\n",
       "      <td>0.160639</td>\n",
       "      <td>0.142787</td>\n",
       "      <td>0.142787</td>\n",
       "      <td>150151</td>\n",
       "      <td>0.0</td>\n",
       "      <td>0.0</td>\n",
       "    </tr>\n",
       "    <tr>\n",
       "      <th>...</th>\n",
       "      <td>...</td>\n",
       "      <td>...</td>\n",
       "      <td>...</td>\n",
       "      <td>...</td>\n",
       "      <td>...</td>\n",
       "      <td>...</td>\n",
       "      <td>...</td>\n",
       "      <td>...</td>\n",
       "    </tr>\n",
       "    <tr>\n",
       "      <th>4944</th>\n",
       "      <td>2023-05-30 00:00:00+10:00</td>\n",
       "      <td>0.385000</td>\n",
       "      <td>0.390000</td>\n",
       "      <td>0.365000</td>\n",
       "      <td>0.370000</td>\n",
       "      <td>7699068</td>\n",
       "      <td>0.0</td>\n",
       "      <td>0.0</td>\n",
       "    </tr>\n",
       "    <tr>\n",
       "      <th>4945</th>\n",
       "      <td>2023-05-31 00:00:00+10:00</td>\n",
       "      <td>0.370000</td>\n",
       "      <td>0.370000</td>\n",
       "      <td>0.352500</td>\n",
       "      <td>0.370000</td>\n",
       "      <td>14235614</td>\n",
       "      <td>0.0</td>\n",
       "      <td>0.0</td>\n",
       "    </tr>\n",
       "    <tr>\n",
       "      <th>4946</th>\n",
       "      <td>2023-06-01 00:00:00+10:00</td>\n",
       "      <td>0.370000</td>\n",
       "      <td>0.370000</td>\n",
       "      <td>0.350000</td>\n",
       "      <td>0.350000</td>\n",
       "      <td>7216902</td>\n",
       "      <td>0.0</td>\n",
       "      <td>0.0</td>\n",
       "    </tr>\n",
       "    <tr>\n",
       "      <th>4947</th>\n",
       "      <td>2023-06-02 00:00:00+10:00</td>\n",
       "      <td>0.355000</td>\n",
       "      <td>0.370000</td>\n",
       "      <td>0.350000</td>\n",
       "      <td>0.365000</td>\n",
       "      <td>7503334</td>\n",
       "      <td>0.0</td>\n",
       "      <td>0.0</td>\n",
       "    </tr>\n",
       "    <tr>\n",
       "      <th>4948</th>\n",
       "      <td>2023-06-05 00:00:00+10:00</td>\n",
       "      <td>0.370000</td>\n",
       "      <td>0.375000</td>\n",
       "      <td>0.355000</td>\n",
       "      <td>0.355000</td>\n",
       "      <td>9074193</td>\n",
       "      <td>0.0</td>\n",
       "      <td>0.0</td>\n",
       "    </tr>\n",
       "  </tbody>\n",
       "</table>\n",
       "<p>4949 rows × 8 columns</p>\n",
       "</div>"
      ],
      "text/plain": [
       "                          Date      Open      High       Low     Close  \\\n",
       "0    2003-11-05 00:00:00+11:00  0.200795  0.200795  0.178482  0.178482   \n",
       "1    2003-11-06 00:00:00+11:00  0.178482  0.178482  0.151717  0.160639   \n",
       "2    2003-11-07 00:00:00+11:00  0.178482  0.178482  0.169560  0.169560   \n",
       "3    2003-11-10 00:00:00+11:00  0.178482  0.178482  0.160639  0.160639   \n",
       "4    2003-11-11 00:00:00+11:00  0.160639  0.160639  0.142787  0.142787   \n",
       "...                        ...       ...       ...       ...       ...   \n",
       "4944 2023-05-30 00:00:00+10:00  0.385000  0.390000  0.365000  0.370000   \n",
       "4945 2023-05-31 00:00:00+10:00  0.370000  0.370000  0.352500  0.370000   \n",
       "4946 2023-06-01 00:00:00+10:00  0.370000  0.370000  0.350000  0.350000   \n",
       "4947 2023-06-02 00:00:00+10:00  0.355000  0.370000  0.350000  0.365000   \n",
       "4948 2023-06-05 00:00:00+10:00  0.370000  0.375000  0.355000  0.355000   \n",
       "\n",
       "        Volume  Dividends  Stock Splits  \n",
       "0       823593        0.0           0.0  \n",
       "1       228028        0.0           0.0  \n",
       "2        35856        0.0           0.0  \n",
       "3        61629        0.0           0.0  \n",
       "4       150151        0.0           0.0  \n",
       "...        ...        ...           ...  \n",
       "4944   7699068        0.0           0.0  \n",
       "4945  14235614        0.0           0.0  \n",
       "4946   7216902        0.0           0.0  \n",
       "4947   7503334        0.0           0.0  \n",
       "4948   9074193        0.0           0.0  \n",
       "\n",
       "[4949 rows x 8 columns]"
      ]
     },
     "execution_count": 4,
     "metadata": {},
     "output_type": "execute_result"
    }
   ],
   "source": [
    "df.reset_index(inplace=True)\n",
    "df.head(-5)"
   ]
  },
  {
   "cell_type": "code",
   "execution_count": 5,
   "id": "577f073b-6700-4065-9aa8-4e0dfabfb4cb",
   "metadata": {},
   "outputs": [],
   "source": [
    "df.columns= ['date','open','high','low','close','vol','divs','split']"
   ]
  },
  {
   "cell_type": "code",
   "execution_count": 6,
   "id": "2bbd5469-4e63-4c77-80dc-8519705866d1",
   "metadata": {},
   "outputs": [
    {
     "data": {
      "text/html": [
       "<div>\n",
       "<style scoped>\n",
       "    .dataframe tbody tr th:only-of-type {\n",
       "        vertical-align: middle;\n",
       "    }\n",
       "\n",
       "    .dataframe tbody tr th {\n",
       "        vertical-align: top;\n",
       "    }\n",
       "\n",
       "    .dataframe thead th {\n",
       "        text-align: right;\n",
       "    }\n",
       "</style>\n",
       "<table border=\"1\" class=\"dataframe\">\n",
       "  <thead>\n",
       "    <tr style=\"text-align: right;\">\n",
       "      <th></th>\n",
       "      <th>open</th>\n",
       "      <th>high</th>\n",
       "      <th>low</th>\n",
       "      <th>close</th>\n",
       "      <th>vol</th>\n",
       "      <th>divs</th>\n",
       "      <th>split</th>\n",
       "    </tr>\n",
       "  </thead>\n",
       "  <tbody>\n",
       "    <tr>\n",
       "      <th>count</th>\n",
       "      <td>4954.000000</td>\n",
       "      <td>4954.000000</td>\n",
       "      <td>4954.000000</td>\n",
       "      <td>4954.000000</td>\n",
       "      <td>4.954000e+03</td>\n",
       "      <td>4954.0</td>\n",
       "      <td>4954.000000</td>\n",
       "    </tr>\n",
       "    <tr>\n",
       "      <th>mean</th>\n",
       "      <td>0.307373</td>\n",
       "      <td>0.314763</td>\n",
       "      <td>0.297631</td>\n",
       "      <td>0.305775</td>\n",
       "      <td>1.798197e+06</td>\n",
       "      <td>0.0</td>\n",
       "      <td>0.000414</td>\n",
       "    </tr>\n",
       "    <tr>\n",
       "      <th>std</th>\n",
       "      <td>0.336655</td>\n",
       "      <td>0.344112</td>\n",
       "      <td>0.325284</td>\n",
       "      <td>0.334683</td>\n",
       "      <td>3.899492e+06</td>\n",
       "      <td>0.0</td>\n",
       "      <td>0.020591</td>\n",
       "    </tr>\n",
       "    <tr>\n",
       "      <th>min</th>\n",
       "      <td>0.035987</td>\n",
       "      <td>0.037786</td>\n",
       "      <td>0.033288</td>\n",
       "      <td>0.035087</td>\n",
       "      <td>0.000000e+00</td>\n",
       "      <td>0.0</td>\n",
       "      <td>0.000000</td>\n",
       "    </tr>\n",
       "    <tr>\n",
       "      <th>25%</th>\n",
       "      <td>0.076000</td>\n",
       "      <td>0.078000</td>\n",
       "      <td>0.074589</td>\n",
       "      <td>0.075573</td>\n",
       "      <td>1.850765e+05</td>\n",
       "      <td>0.0</td>\n",
       "      <td>0.000000</td>\n",
       "    </tr>\n",
       "    <tr>\n",
       "      <th>50%</th>\n",
       "      <td>0.160319</td>\n",
       "      <td>0.165000</td>\n",
       "      <td>0.156178</td>\n",
       "      <td>0.160000</td>\n",
       "      <td>5.221030e+05</td>\n",
       "      <td>0.0</td>\n",
       "      <td>0.000000</td>\n",
       "    </tr>\n",
       "    <tr>\n",
       "      <th>75%</th>\n",
       "      <td>0.405000</td>\n",
       "      <td>0.419734</td>\n",
       "      <td>0.390000</td>\n",
       "      <td>0.404964</td>\n",
       "      <td>1.660882e+06</td>\n",
       "      <td>0.0</td>\n",
       "      <td>0.000000</td>\n",
       "    </tr>\n",
       "    <tr>\n",
       "      <th>max</th>\n",
       "      <td>1.905288</td>\n",
       "      <td>1.939311</td>\n",
       "      <td>1.854254</td>\n",
       "      <td>1.922300</td>\n",
       "      <td>8.177939e+07</td>\n",
       "      <td>0.0</td>\n",
       "      <td>1.049200</td>\n",
       "    </tr>\n",
       "  </tbody>\n",
       "</table>\n",
       "</div>"
      ],
      "text/plain": [
       "              open         high          low        close           vol  \\\n",
       "count  4954.000000  4954.000000  4954.000000  4954.000000  4.954000e+03   \n",
       "mean      0.307373     0.314763     0.297631     0.305775  1.798197e+06   \n",
       "std       0.336655     0.344112     0.325284     0.334683  3.899492e+06   \n",
       "min       0.035987     0.037786     0.033288     0.035087  0.000000e+00   \n",
       "25%       0.076000     0.078000     0.074589     0.075573  1.850765e+05   \n",
       "50%       0.160319     0.165000     0.156178     0.160000  5.221030e+05   \n",
       "75%       0.405000     0.419734     0.390000     0.404964  1.660882e+06   \n",
       "max       1.905288     1.939311     1.854254     1.922300  8.177939e+07   \n",
       "\n",
       "         divs        split  \n",
       "count  4954.0  4954.000000  \n",
       "mean      0.0     0.000414  \n",
       "std       0.0     0.020591  \n",
       "min       0.0     0.000000  \n",
       "25%       0.0     0.000000  \n",
       "50%       0.0     0.000000  \n",
       "75%       0.0     0.000000  \n",
       "max       0.0     1.049200  "
      ]
     },
     "execution_count": 6,
     "metadata": {},
     "output_type": "execute_result"
    }
   ],
   "source": [
    "df['date'] = pd.to_datetime(df.date)\n",
    "df.describe()"
   ]
  },
  {
   "cell_type": "code",
   "execution_count": 7,
   "id": "cd397927-4334-4da8-b992-e3ccede033b7",
   "metadata": {},
   "outputs": [],
   "source": [
    "x = df[['open', 'high','low', 'vol']]\n",
    "y = df['close']"
   ]
  },
  {
   "cell_type": "code",
   "execution_count": 8,
   "id": "be6615fd-eb4b-486c-aaeb-d47d8e1e549c",
   "metadata": {},
   "outputs": [],
   "source": [
    "from sklearn import metrics\n",
    "from sklearn.model_selection import train_test_split"
   ]
  },
  {
   "cell_type": "code",
   "execution_count": 9,
   "id": "64026619-f774-4711-989d-bb165834a4f8",
   "metadata": {},
   "outputs": [],
   "source": [
    "# Linear regression Model for stock prediction \n",
    "train_x, test_x, train_y, test_y = train_test_split(x, y, test_size=0.15 , shuffle=False,random_state = 0)"
   ]
  },
  {
   "cell_type": "code",
   "execution_count": 10,
   "id": "cd8460ac-d488-4088-8a33-98cb9777c6ad",
   "metadata": {},
   "outputs": [
    {
     "name": "stdout",
     "output_type": "stream",
     "text": [
      "(4210, 4)\n",
      "(744, 4)\n",
      "(4210,)\n",
      "(744,)\n"
     ]
    }
   ],
   "source": [
    "print(train_x.shape )\n",
    "print(test_x.shape)\n",
    "print(train_y.shape)\n",
    "print(test_y.shape)"
   ]
  },
  {
   "cell_type": "code",
   "execution_count": 11,
   "id": "b9432901-8e76-471b-b7a2-68065ec929ef",
   "metadata": {},
   "outputs": [
    {
     "name": "stdout",
     "output_type": "stream",
     "text": [
      "regression coefficient [-5.03594443e-01  8.35843544e-01  6.65761921e-01 -3.59475782e-10]\n",
      "regression intercept -0.00014802998446838966\n"
     ]
    }
   ],
   "source": [
    "from sklearn.linear_model import LinearRegression\n",
    "from sklearn.metrics import confusion_matrix, accuracy_score\n",
    "regression = LinearRegression()\n",
    "regression.fit(train_x, train_y)\n",
    "print(\"regression coefficient\",regression.coef_)\n",
    "print(\"regression intercept\",regression.intercept_)"
   ]
  },
  {
   "cell_type": "code",
   "execution_count": 12,
   "id": "47f644cf-3fe5-4126-a4d1-514f36d00f90",
   "metadata": {},
   "outputs": [
    {
     "name": "stdout",
     "output_type": "stream",
     "text": [
      "linear regression confidence:  0.9980804030149344\n"
     ]
    }
   ],
   "source": [
    "regression_confidence = regression.score(test_x, test_y)\n",
    "print(\"linear regression confidence: \", regression_confidence)"
   ]
  },
  {
   "cell_type": "code",
   "execution_count": 13,
   "id": "67ae6008-c6a7-47b4-9c54-fdc19d64a625",
   "metadata": {},
   "outputs": [
    {
     "name": "stdout",
     "output_type": "stream",
     "text": [
      "       open   high    low      vol\n",
      "4210  0.058  0.059  0.056  3745699\n",
      "4211  0.059  0.059  0.055  6745801\n",
      "4212  0.057  0.058  0.056  2329566\n",
      "4213  0.058  0.060  0.058  2038926\n",
      "4214  0.058  0.058  0.056  2242108\n"
     ]
    }
   ],
   "source": [
    "predicted=regression.predict(test_x)\n",
    "print(test_x.head())"
   ]
  },
  {
   "cell_type": "code",
   "execution_count": 14,
   "id": "eb4e29db-84bf-4cd8-9bd6-8eb8395ca3e8",
   "metadata": {},
   "outputs": [
    {
     "data": {
      "text/html": [
       "<div>\n",
       "<style scoped>\n",
       "    .dataframe tbody tr th:only-of-type {\n",
       "        vertical-align: middle;\n",
       "    }\n",
       "\n",
       "    .dataframe tbody tr th {\n",
       "        vertical-align: top;\n",
       "    }\n",
       "\n",
       "    .dataframe thead th {\n",
       "        text-align: right;\n",
       "    }\n",
       "</style>\n",
       "<table border=\"1\" class=\"dataframe\">\n",
       "  <thead>\n",
       "    <tr style=\"text-align: right;\">\n",
       "      <th></th>\n",
       "      <th>Actual_Price</th>\n",
       "      <th>Predicted_Price</th>\n",
       "    </tr>\n",
       "  </thead>\n",
       "  <tbody>\n",
       "    <tr>\n",
       "      <th>4210</th>\n",
       "      <td>0.058</td>\n",
       "      <td>0.055894</td>\n",
       "    </tr>\n",
       "    <tr>\n",
       "      <th>4211</th>\n",
       "      <td>0.057</td>\n",
       "      <td>0.053647</td>\n",
       "    </tr>\n",
       "    <tr>\n",
       "      <th>4212</th>\n",
       "      <td>0.057</td>\n",
       "      <td>0.056071</td>\n",
       "    </tr>\n",
       "    <tr>\n",
       "      <th>4213</th>\n",
       "      <td>0.058</td>\n",
       "      <td>0.058675</td>\n",
       "    </tr>\n",
       "    <tr>\n",
       "      <th>4214</th>\n",
       "      <td>0.057</td>\n",
       "      <td>0.055599</td>\n",
       "    </tr>\n",
       "    <tr>\n",
       "      <th>4215</th>\n",
       "      <td>0.057</td>\n",
       "      <td>0.057313</td>\n",
       "    </tr>\n",
       "    <tr>\n",
       "      <th>4216</th>\n",
       "      <td>0.057</td>\n",
       "      <td>0.057183</td>\n",
       "    </tr>\n",
       "    <tr>\n",
       "      <th>4217</th>\n",
       "      <td>0.058</td>\n",
       "      <td>0.056448</td>\n",
       "    </tr>\n",
       "    <tr>\n",
       "      <th>4218</th>\n",
       "      <td>0.055</td>\n",
       "      <td>0.053567</td>\n",
       "    </tr>\n",
       "    <tr>\n",
       "      <th>4219</th>\n",
       "      <td>0.057</td>\n",
       "      <td>0.056994</td>\n",
       "    </tr>\n",
       "  </tbody>\n",
       "</table>\n",
       "</div>"
      ],
      "text/plain": [
       "      Actual_Price  Predicted_Price\n",
       "4210         0.058         0.055894\n",
       "4211         0.057         0.053647\n",
       "4212         0.057         0.056071\n",
       "4213         0.058         0.058675\n",
       "4214         0.057         0.055599\n",
       "4215         0.057         0.057313\n",
       "4216         0.057         0.057183\n",
       "4217         0.058         0.056448\n",
       "4218         0.055         0.053567\n",
       "4219         0.057         0.056994"
      ]
     },
     "execution_count": 14,
     "metadata": {},
     "output_type": "execute_result"
    }
   ],
   "source": [
    "dfr=pd.DataFrame({'Actual_Price':test_y, 'Predicted_Price':predicted})\n",
    "dfr.head(10)"
   ]
  },
  {
   "cell_type": "code",
   "execution_count": 15,
   "id": "2e1fbd98",
   "metadata": {},
   "outputs": [
    {
     "name": "stdout",
     "output_type": "stream",
     "text": [
      "The accuracy of the model is  100.30178126154881\n"
     ]
    }
   ],
   "source": [
    "x2 = dfr.Actual_Price.mean()\n",
    "y2 = dfr.Predicted_Price.mean()\n",
    "Accuracy1 = x2/y2*100\n",
    "print(\"The accuracy of the model is \" , Accuracy1)"
   ]
  },
  {
   "cell_type": "code",
   "execution_count": 16,
   "id": "4eef92e9",
   "metadata": {},
   "outputs": [
    {
     "data": {
      "image/png": "[encoded data removed]",
      "text/plain": [
       "<Figure size 432x288 with 1 Axes>"
      ]
     },
     "metadata": {},
     "output_type": "display_data"
    }
   ],
   "source": [
    "plt.scatter(dfr.Actual_Price, dfr.Predicted_Price,  color='Darkblue')\n",
    "plt.xlabel(\"Actual Price\")\n",
    "plt.ylabel(\"Predicted Price\")\n",
    "plt.show()"
   ]
  },
  {
   "cell_type": "code",
   "execution_count": 20,
   "id": "5e74dbf2",
   "metadata": {},
   "outputs": [
    {
     "name": "stderr",
     "output_type": "stream",
     "text": [
      "No artists with labels found to put in legend.  Note that artists whose label start with an underscore are ignored when legend() is called with no argument.\n"
     ]
    },
    {
     "data": {
      "image/png": "[encoded data removed]",
      "text/plain": [
       "<Figure size 432x288 with 1 Axes>"
      ]
     },
     "metadata": {},
     "output_type": "display_data"
    }
   ],
   "source": [
    "plt.plot(dfr.Actual_Price, color='black')\n",
    "plt.plot(dfr.Predicted_Price, color='lightblue')\n",
    "plt.title(\"Nio prediction chart\")\n",
    "plt.legend();"
   ]
  }
 ],
 "metadata": {
  "kernelspec": {
   "display_name": "Python 3 (ipykernel)",
   "language": "python",
   "name": "python3"
  },
  "language_info": {
   "codemirror_mode": {
    "name": "ipython",
    "version": 3
   },
   "file_extension": ".py",
   "mimetype": "text/x-python",
   "name": "python",
   "nbconvert_exporter": "python",
   "pygments_lexer": "ipython3",
   "version": "3.9.12"
  },
  "vscode": {
   "interpreter": {
    "hash": "39873b2347a8740e54177f517086316123ace8fa84ce59eaa51ec41c9cd203b6"
   }
  }
 },
 "nbformat": 4,
 "nbformat_minor": 5
}
